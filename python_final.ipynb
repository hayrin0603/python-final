{
  "cells": [
    {
      "attachments": {},
      "cell_type": "markdown",
      "metadata": {
        "id": "TQggtlLF-huA"
      },
      "source": [
        "#  2023-1학기 파이썬 프로그래밍 기말고사 \n",
        "\n"
      ]
    },
    {
      "attachments": {},
      "cell_type": "markdown",
      "metadata": {
        "id": "OtG7xx1d_S9S"
      },
      "source": [
        "기말 고사 유의 사항\n",
        "\n",
        "1. 문제의 답안을 함수로 작성하되, 반드시 함수 이름은 문제에서 제시하는 함수명으로 할것 (함수명이 다르면 점수 획득 불가능)\n",
        "1. 각 문제의 답안은 답안 작성 셀에서 작성할 것\n",
        "1. 모든 문제는 함수의 매개변수 입력을 통해 데이터를 전달 받고, 결과를 반환하는 함수를 정의하는 것임 (주의: input()는 키보드 입력이며, 함수 입력이 아님, print()는 모니터에 출력하는 함수이며, 함수 반환이 아님)\n",
        "1. 함수의 입력과 반환 시 데이터 타입도 반드시 지킬것 (예: 문자열 반환이라는 문제에서는 반드시 문자열을 반환 해야함)\n",
        "1. 답안 제출은 함수가 정의된 부분만 제출하고, 나머지 코드는 지우고 제출할 것, 답안 제출시 input() 함수나 , print() 함수가 있으면 안됨\n",
        "1. 코드 작성이 끝난 파일은 개별적으로 함수를 호출해서 검수를 거쳐 정답이 맞는지 확인할 것\n",
        "1. 작성된 답안은 colab의 상단 메뉴의 파일--> 다운로드 --> .py 로 다운 받아 학교 LMS 에 제출할 것  ( .py 다운로드시 경고창이 뜨지만, 계속 버튼을 눌러 다운 할것)\n",
        "1. .py 가 학교 LMS 에 올라가지 않을경우 ZIP으로 압축하여 업로드 가능\n",
        "1. 파일의 이름은 자신의 학번.py      예) 학번이 2021111000 일 경우,     2021111000.py 파일을 제출\n",
        "1. 코드는 자동 채점이 되며, 각 문제당 부분 점수는 없음\n",
        "1. 시험 문제 및 답안을 절대 유출 금지(SNS, 커뮤니티 및 개인 블로그 포함)하며, 유출될 경우 불이익을 감수할 것\n",
        "1. 제출 기한을 넘겨 답안을 제출하는 것은 불가"
      ]
    },
    {
      "attachments": {},
      "cell_type": "markdown",
      "metadata": {
        "id": "G8s27iEOeMOd"
      },
      "source": [
        "## 문제 1) - 5점"
      ]
    },
    {
      "attachments": {},
      "cell_type": "markdown",
      "metadata": {
        "id": "lhpvyiXLeu-1"
      },
      "source": [
        "\n",
        "<strong>* 하나의 정수를 함수의 입력으로 받아, 이 정수가 3의 배수인지를 판별하여 3의 배수이면 True, 3의 배수가 아니라면 False를 반환하는 함수를 작성하시오. </strong>\n",
        "\n",
        "\n",
        "* 예1) \n",
        " * 입력(정수) : 9 <br>\n",
        " * 반환(bool) : True\n",
        "\n",
        " * 함수 입력 \n",
        "    ```\n",
        "    exam1(9)\n",
        "\n",
        "    ```\n",
        " * 함수 반환\n",
        "    ```\n",
        "    True\n",
        "\n",
        "    ```\n",
        "\n",
        "\n",
        "\n",
        "* 예2)\n",
        " * 입력(정수): 5 <br>\n",
        " * 반환(bool): False\n",
        "\n",
        " * 함수 입력\n",
        "    ```\n",
        "    exam1(5)\n",
        "    ```\n",
        " * 함수 반환\n",
        "    ```\n",
        "    False\n",
        "\n",
        "    ```\n",
        "\n",
        "\n",
        "\n",
        "* 함수 이름: exam1<br>      (반드시 함수 이름을 exam1로 작성할것!!)\n",
        "\n",
        "* 함수 작성 가이드 <br>\n",
        "\n",
        "\n",
        "\n",
        "```\n",
        "def exam1(a):\n",
        "    b = a가 3의 배수라면 True, 그렇지 않으면 False\n",
        "    return b\n",
        "```"
      ]
    },
    {
      "cell_type": "code",
      "execution_count": null,
      "metadata": {
        "id": "cb4AtnIZIGyA"
      },
      "outputs": [],
      "source": [
        "###### 1번 문제 답안 작성 셀 ######\n",
        "\n"
      ]
    },
    {
      "attachments": {},
      "cell_type": "markdown",
      "metadata": {
        "id": "X1GukuNA-vPR"
      },
      "source": [
        "## 문제 2) - 10점"
      ]
    },
    {
      "attachments": {},
      "cell_type": "markdown",
      "metadata": {
        "id": "kK4fr_Gm5oCl"
      },
      "source": [
        "<strong> * 하나의 리스트를 함수의 입력으로 넣으면, 리스트안의 중복을 제거한 다음 중복 제거된 리스트를 반환하는 함수를 작성하시오. (단, 리스트 내 데이터 순서를 유지할 것)</strong>\n",
        "\n",
        "* 예1) \n",
        "   * 입력(리스트) : [1,2,1,1,2,4] <br>\n",
        "   * 반환(리스트) : [1,2,4]\n",
        "\n",
        "   * 함수 입력 \n",
        "       ```\n",
        "       exam2([1,2,1,1,2,4])\n",
        "\n",
        "       ```\n",
        "   * 함수 반환\n",
        "       ```\n",
        "       [1,2,4]\n",
        "\n",
        "       ```\n",
        "\n",
        "* 예2)\n",
        "\n",
        " * 입력(리스트): [3,3,4,5,3] <br>\n",
        " * 반환(리스트): [3,4,5]\n",
        "\n",
        " * 함수 입력 \n",
        "    ```\n",
        "    exam2([3,3,4,5,3])\n",
        "\n",
        "    ```\n",
        " * 함수 반환\n",
        "   ```\n",
        "   [3,4,5]\n",
        "\n",
        "   ```\n",
        "\n",
        "\n",
        "\n",
        "* 함수 이름: exam2 <br>      (반드시 함수 이름을 exam2로 작성할것!!)\n",
        "\n",
        "* 함수 작성 가이드 <br>\n",
        "\n",
        "\n",
        "\n",
        "```\n",
        "def exam2(a):\n",
        "    b = a리스트의 중복제거한 리스트 \n",
        "    return b\n",
        "```\n",
        "\n",
        "\n",
        "\n"
      ]
    },
    {
      "cell_type": "code",
      "execution_count": null,
      "metadata": {
        "id": "kX9xY63-5j5p"
      },
      "outputs": [],
      "source": [
        "###### 2번 문제 답안 작성 셀 ######\n",
        "\n",
        "\n"
      ]
    },
    {
      "attachments": {},
      "cell_type": "markdown",
      "metadata": {
        "id": "EnqoaId9BzIm"
      },
      "source": [
        "## 문제 3) - 10점"
      ]
    },
    {
      "attachments": {},
      "cell_type": "markdown",
      "metadata": {
        "id": "smtRGTyPBqxk"
      },
      "source": [
        "<strong> 다음 표에서 나타내는 아이스크림 중, 2가지를 선택하여 함수의 입력으로 아이스크림의 이름과 수량을 차례로 입력하면, 아이스크림의 총 가격이 반환하는 함수를 작성하시오.</strong> (단, 아이스크림의 순서는 상관없음)\n",
        "\n",
        "|아이스크림|가격|\n",
        "|---|---|\n",
        "|누가바|600|\n",
        "|쌍쌍바|700|\n",
        "|돼지바|800|\n",
        "|바밤바|900|\n",
        "|보석바|400|\n",
        "|메로나|500|\n",
        "\n",
        "* 예1)\n",
        "\n",
        "  * 입력(문자열, 정수, 문자열, 정수) : 누가바, 1, 쌍쌍바, 2 \n",
        "  * 반환(정수) : 2000\n",
        "\n",
        "  * 함수 입력 \n",
        "    ```   \n",
        "    exam3(\"누가바\", 1, \"쌍쌍바\", 2)\n",
        "    ```\n",
        "  * 함수 반환\n",
        "    ```\n",
        "    2000\n",
        "    ```\n",
        "\n",
        "* 예2)\n",
        "\n",
        "  * 입력(문자열, 정수, 문자열, 정수): 돼지바, 2, 바밤바, 1\n",
        "  * 반환(정수): 2500\n",
        "\n",
        "\n",
        "  * 함수 입력 \n",
        "    ```\n",
        "    exam3(\"돼지바\", 2, \"바밤바\", 1)\n",
        "    ```\n",
        "\n",
        "  * 함수 반환\n",
        "    ```\n",
        "    2500\n",
        "    ```\n",
        "\n",
        "* 함수 이름: exam3\n",
        "(반드시 함수 이름을 exam3로 작성할것!!)\n",
        "\n",
        "* 함수 작성 가이드\n",
        "\n",
        "\n",
        "\n",
        "```\n",
        "def exam3(a,b, c, d):\n",
        "    e = a의 가격*c + c의 가격*d\n",
        "    return e\n",
        "```\n",
        "\n"
      ]
    },
    {
      "cell_type": "code",
      "execution_count": null,
      "metadata": {
        "id": "FS8nRvcNG8QR"
      },
      "outputs": [],
      "source": [
        "###### 3번 문제 답안 작성 셀 ######\n",
        "\n"
      ]
    },
    {
      "attachments": {},
      "cell_type": "markdown",
      "metadata": {
        "id": "8uQNXmPWHHGN"
      },
      "source": [
        "## 문제 4) - 10점"
      ]
    },
    {
      "attachments": {},
      "cell_type": "markdown",
      "metadata": {
        "id": "PLsesGlrHyvc"
      },
      "source": [
        "<strong> 1부터 10까지의 정수 중 하나를 함수의 입력으로 넣으면, 이 숫자에 해당하는 한글문자열을 반환하는 함수를 작성하시오.  </strong>\n",
        "\n",
        "\n",
        "\n",
        "* 예1)<br>\n",
        "\n",
        "    * 입력(정수) : 1<br>\n",
        "    * 반환(문자열) : 하나<br>\n",
        "\n",
        "    * 함수 입력 \n",
        "        ```\n",
        "        exam4(1)\n",
        "\n",
        "        ```\n",
        "\n",
        "    * 함수 반환\n",
        "\n",
        "        ```\n",
        "        하나\n",
        "\n",
        "        ```\n",
        "\n",
        "* 예2)<br>\n",
        "\n",
        "    * 입력(정수) : 7<br>\n",
        "    * 반환(문자열) : 일곱<br>\n",
        "\n",
        "    * 함수 입력 \n",
        "        ```\n",
        "        exam4(7)\n",
        "\n",
        "        ```\n",
        "    \n",
        "    * 함수 반환\n",
        "        ```\n",
        "        일곱\n",
        "        ```\n",
        "\n",
        "\n",
        "* 함수 이름: exam4  <br>\n",
        "(반드시 함수 이름을 exam4로 작성할것!!)<br>\n",
        "\n",
        "* 함수 작성 가이드\n",
        "\n",
        "```\n",
        "def exam4(a):\n",
        "    b = a의 한글문자열\n",
        "    return b\n",
        "```"
      ]
    },
    {
      "cell_type": "code",
      "execution_count": null,
      "metadata": {
        "id": "71qGTeWEW14L"
      },
      "outputs": [],
      "source": [
        "###### 4번 문제 답안 작성 셀 ######\n",
        "\n"
      ]
    },
    {
      "attachments": {},
      "cell_type": "markdown",
      "metadata": {
        "id": "ApVnFiekZWbv"
      },
      "source": [
        "## 문제5) - 10점"
      ]
    },
    {
      "attachments": {},
      "cell_type": "markdown",
      "metadata": {
        "id": "AOx7f5T9ZzH8"
      },
      "source": [
        "<strong> 2002년도부터 2100년도까지의 정수를 함수의 입력으로 넣으면, 월드컵 개최의 해인지 판별하여 개최의 해라면 True, 그렇지 않다면 False를 반환하는 함수를 작성하시오.  </strong><br>\n",
        "\n",
        "(단, 2002년도는 월드컵 개최의 해 이며, 4년마다 한번씩 월드컵이 개최되어 이후 2006, 2010..... 년도 등이 월드컵 개최의 해이다.)\n",
        "\n",
        "\n",
        "\n",
        "* 예1)<br>\n",
        "\n",
        "  * 입력(정수) : 2002<br>\n",
        "  * 반환(bool) : True<br>\n",
        "\n",
        "  * 함수 입력 \n",
        "      ```\n",
        "      exam5(2002)\n",
        "    \n",
        "      ```\n",
        "  * 함수 반환 \n",
        "    \n",
        "     ```\n",
        "    True\n",
        "     ```\n",
        "<br>\n",
        "\n",
        "* 예2)\n",
        "\n",
        "  * 입력(정수) : 2003<br>\n",
        "  * 반환(bool) : False<br>\n",
        "  * 함수 입력 \n",
        "      ```\n",
        "      exam5(2003)\n",
        "\n",
        "      ```\n",
        "\n",
        "  * 함수 반환\n",
        "\n",
        "      ```\n",
        "      False\n",
        "      ```\n",
        "\n",
        "\n",
        "\n",
        "\n",
        "* 함수 이름: exam5\n",
        "(반드시 함수 이름을 exam5로 작성할것!!)\n",
        "\n",
        "* 함수 작성 가이드\n",
        "\n",
        "\n",
        "```\n",
        "\n",
        "def exam5(a):\n",
        "    b = a 가 월드컵 개최의 해라면 True(bool). 그렇지 않다면 False(bool)을 대입\n",
        "    return b\n",
        "```\n",
        "\n"
      ]
    },
    {
      "cell_type": "code",
      "execution_count": null,
      "metadata": {
        "id": "N1DpVBJmIs_L"
      },
      "outputs": [],
      "source": [
        "###### 5번 문제 답안 작성 셀 ######\n",
        "\n",
        "\n",
        "\n"
      ]
    },
    {
      "attachments": {},
      "cell_type": "markdown",
      "metadata": {
        "id": "R9k6o23RMER4"
      },
      "source": [
        "## 문제 6) - 5점"
      ]
    },
    {
      "attachments": {},
      "cell_type": "markdown",
      "metadata": {
        "id": "IQWD9SCNhgHP"
      },
      "source": [
        "<strong>전화번호를 함수의 입력으로 넣으면, 해당 전화번호의 지역을 반환하는 함수를 작성하시오.</strong><br>\n",
        "\n",
        "단, 아래의 지역번호로된 전화번호만 함수의 입력으로 주어진다고 가정한다.\n",
        "\n",
        "\n",
        "|지역번호 |지역|\n",
        "|---|---|\n",
        "|02|서울|\n",
        "|031|경기|\n",
        "|033|강원도|\n",
        "|064|제주도|\n",
        "\n",
        "\n",
        "\n",
        "* 예1)<br>\n",
        "\n",
        "  * 입력(문자열) : 02-2244-7778<br>\n",
        "  * 반환(문자열) : 서울<br>\n",
        "\n",
        "  * 함수 입력 \n",
        "      ```\n",
        "      exam6(\"02-2244-7778\")\n",
        "    \n",
        "      ```\n",
        "  * 함수 반환 \n",
        "    \n",
        "     ```\n",
        "     서울\n",
        "     ```\n",
        "\n",
        "* 예2)\n",
        "\n",
        "    * 입력(문자열) : 033-5547-8874<br>\n",
        "    * 반환(문자열) : 강원도<br>\n",
        "\n",
        "    * 함수 입력 \n",
        "        ```\n",
        "        exam6(\"033-5547-8874\")\n",
        "        \n",
        "        ```\n",
        "    * 함수 반환 \n",
        "        \n",
        "        ```\n",
        "        강원도\n",
        "        ```\n",
        "\n",
        "\n",
        "* 함수 이름: exam6\n",
        "(반드시 함수 이름을 exam6로 작성할것!!)\n",
        "\n",
        "* 함수 작성 힌트\n",
        "\n",
        "\n",
        "```\n",
        "\n",
        "def exam6(a):\n",
        "    b = a 전화번호의 지역\n",
        "    return b\n",
        "```"
      ]
    },
    {
      "cell_type": "code",
      "execution_count": null,
      "metadata": {
        "id": "BUjtiJV_iikS"
      },
      "outputs": [],
      "source": [
        "###### 6번 문제 답안 작성 셀 ######\n",
        "\n",
        "\n"
      ]
    },
    {
      "attachments": {},
      "cell_type": "markdown",
      "metadata": {
        "id": "4-41iqJ5W1r1"
      },
      "source": [
        "## 문제 7) - 10점"
      ]
    },
    {
      "attachments": {},
      "cell_type": "markdown",
      "metadata": {
        "id": "kqoNGOnfXd1T"
      },
      "source": [
        "\n",
        "<strong> 문자열을 함수의 입력으로 받아, 문자열을 순서를 반대로 뒤집은 결과를 반환하는 함수를 작성하시오. </strong><br>\n",
        "\n",
        "\n",
        "\n",
        "* 예1)<br>\n",
        "\n",
        "  * 입력(문자열) : \"Hello\"<br>\n",
        "  * 반환(문자열) : \"olleH\"<br>\n",
        "  \n",
        "  * 함수 입력 \n",
        "      ```\n",
        "      exam7(\"Hello\")\n",
        "    \n",
        "      ```\n",
        "  * 함수 반환 \n",
        "    \n",
        "     ```\n",
        "     olleH\n",
        "     ```\n",
        "\n",
        "* 예2)<br>\n",
        "\n",
        "    * 입력(문자열) : \"Python\"<br>\n",
        "    * 반환(문자열) : \"nohtyP\"<br>\n",
        "\n",
        "    * 함수 입력 \n",
        "        ```\n",
        "        exam7(\"Python\")\n",
        "        \n",
        "        ```\n",
        "    * 함수 반환 \n",
        "        \n",
        "        ```\n",
        "        nohtyP\n",
        "        ```\n",
        "\n",
        "* 함수 이름: exam7\n",
        "(반드시 함수 이름을 exam7로 작성할것!!)\n",
        "\n",
        "* 함수 작성 가이드\n",
        "\n",
        "\n",
        "```\n",
        "\n",
        "def exam7(a):\n",
        "    b = a 문자열을 반대로 뒤집은 문자열\n",
        "    return b\n",
        "```"
      ]
    },
    {
      "cell_type": "code",
      "execution_count": null,
      "metadata": {
        "id": "4pdCE84Fe9Ce"
      },
      "outputs": [],
      "source": [
        "###### 7번 문제 답안 작성 셀 ######\n",
        "\n"
      ]
    },
    {
      "attachments": {},
      "cell_type": "markdown",
      "metadata": {
        "id": "6gmPtFuZeqIj"
      },
      "source": [
        "## 문제 8 - 10점"
      ]
    },
    {
      "attachments": {},
      "cell_type": "markdown",
      "metadata": {
        "id": "mNSyCPn-fGBy"
      },
      "source": [
        "<strong>정수로 구성된 하나의 리스트를 함수의 입력으로 받으면, 리스트 안의 요소들 중 가장 작은 값을 반환하는 함수를 작성하시오. </strong><br>\n",
        "\n",
        "\n",
        "* 예1)<br>\n",
        "\n",
        "  * 입력(리스트) : [9, 4, 3, 2, 1]<br>\n",
        "  * 반환(정수) : 1<br>\n",
        "\n",
        "  * 함수 입력 \n",
        "      ```\n",
        "      exam8([9, 4, 3, 2, 1])\n",
        "    \n",
        "      ```\n",
        "  * 함수 반환 \n",
        "    \n",
        "     ```\n",
        "     1\n",
        "     ```\n",
        "\n",
        "* 예2)<br>\n",
        "\n",
        "    * 입력(리스트) : [-2, 3, -4, -5, -7]<br> \n",
        "    * 반환(정수) : -7 <br>\n",
        "\n",
        "    * 함수 입력 \n",
        "        ```\n",
        "        exam8([-2, 3, -4, -5, -7])\n",
        "        \n",
        "        ```\n",
        "    * 함수 반환 \n",
        "        \n",
        "        ```\n",
        "        -7\n",
        "        ```\n",
        "\n",
        "* 함수 이름: exam8\n",
        "(반드시 함수 이름을 exam8로 작성할것!!)\n",
        "\n",
        "* 함수 작성 가이드\n",
        "\n",
        "\n",
        "```\n",
        "\n",
        "def exam8(a):\n",
        "    b = a의 리스트 중 가장 작은 정수\n",
        "    return b\n",
        "```"
      ]
    },
    {
      "cell_type": "code",
      "execution_count": null,
      "metadata": {
        "id": "tFpu6fEehCG6"
      },
      "outputs": [],
      "source": [
        "###### 8번 문제 답안 작성 셀 ######\n",
        "\n",
        "\n"
      ]
    },
    {
      "attachments": {},
      "cell_type": "markdown",
      "metadata": {
        "id": "_6nwI88OhsBI"
      },
      "source": [
        "## 문제 9) - 15점"
      ]
    },
    {
      "attachments": {},
      "cell_type": "markdown",
      "metadata": {
        "id": "pxTuZRhohj7h"
      },
      "source": [
        "하나의 문자열을 함수의 입력으로 받으면, 가장 많이 등장하는 문자를 찾아, 해당 문자와 그 등장 횟수를 딕셔너리 형태로 반환하는 함수를 작성하시오. (단, 등장횟수가 동일한 문자가 여러 개 있다면, 먼저 등장한 문자를 반환한다)\n",
        "\n",
        "\n",
        "\n",
        "* 예1) <br>\n",
        "\n",
        "    * 입력(문자열) : \"Mississippi\"<br>\n",
        "    * 반환(딕셔너리) : {'i':4}<br>\n",
        "\n",
        "\n",
        "    * 함수 입력 \n",
        "       ```\n",
        "       exam9(\"Hello\")\n",
        "       ```\n",
        "\n",
        "    * 함수 반환 \n",
        "        ```\n",
        "        {'l':2}\n",
        "        ```\n",
        "\n",
        "* 예2)<br>\n",
        "\n",
        "    * 입력(문자열) : \"arrangement\"<br>\n",
        "    * 반환(딕셔너리) : {a: 2}<br>\n",
        "\n",
        "    * 함수 입력 \n",
        "        ```\n",
        "        exam9(\"arrangement\")\n",
        "            \n",
        "        ```\n",
        "    * 함수 반환 \n",
        "         \n",
        "        ```\n",
        "        {a: 2}\n",
        "        ```\n",
        " \n",
        "* 함수 이름: exam9 (반드시 함수 이름을 exam9로 작성할것!!)<br>\n",
        "\n",
        "함수 작성 가이드\n",
        "\n",
        "```\n",
        "\n",
        "def exam9(a):\n",
        "    b = a 문자열에서 가장 많이 등장한 문자와 등장횟수를 딕셔너리로 만듦\n",
        "    return b\n",
        "```"
      ]
    },
    {
      "cell_type": "code",
      "execution_count": null,
      "metadata": {
        "id": "sLhBSwBMleAX"
      },
      "outputs": [],
      "source": [
        "###### 9번 문제 답안 작성 셀 ######\n",
        "\n",
        "\n"
      ]
    },
    {
      "attachments": {},
      "cell_type": "markdown",
      "metadata": {
        "id": "y8wpZYPsli87"
      },
      "source": [
        "## 문제 10) - 15점"
      ]
    },
    {
      "attachments": {},
      "cell_type": "markdown",
      "metadata": {
        "id": "-q7Zvh2clp73"
      },
      "source": [
        "<strong> 컴플레인을 받은 사람의 이름을 적어놓은 리스트가 있다. 이 리스트를 함수의 입력으로 넣으면, 컴플레인을 가장 적게 받은 사람의 이름을 반환하는 함수를 작성하시오. (단, 동일한 컴플레인의 횟수가 없다고 가정한다.) </strong> \n",
        "\n",
        "\n",
        "\n",
        "* 예1) <br>\n",
        "\n",
        "   * 입력(리스트) : [\"Oliver\", \"Nicholas\", \"Joseph\", \"Joseph\", \"Peter\", \"Oliver\",\"Nicholas\"] <br>\n",
        "   * 반환(문자열) : \"Peter\" <br>\n",
        "\n",
        "\n",
        "   * 함수 입력 \n",
        "      ```\n",
        "      exam10([\"Oliver\", \"Nicholas\", \"Joseph\", \"Joseph\", \"Peter\", \"Oliver\",\"Nicholas\"])\n",
        "      ```\n",
        "        \n",
        "   * 함수 반환 \n",
        "      ```\n",
        "      Peter\n",
        "      ```\n",
        "\n",
        "* 예2)<br>\n",
        "\n",
        "    * 입력(리스트) : [\"Kim\", \"Kim\", \"Park\"] <br>\n",
        "    * 반환(문자열) : \"Park\" <br>\n",
        "\n",
        "    * 함수 입력 \n",
        "        ```\n",
        "        exam10([\"Kim\", \"Kim\", \"Park\"])                 \n",
        "        ```\n",
        "        \n",
        "    * 함수 반환 \n",
        "            \n",
        "        ```\n",
        "        Park\n",
        "        ```\n",
        "\n",
        "\n",
        "\n",
        "* 함수 이름: exam10 (반드시 함수 이름을 exam10로 작성할것!!)<br>\n",
        "\n",
        "함수 작성 가이드\n",
        "\n",
        "```\n",
        "\n",
        "def exam10(a):\n",
        "    b = a 리스트에서 등장 횟수가 가장 적은 문자열\n",
        "    return b\n",
        "```"
      ]
    },
    {
      "cell_type": "code",
      "execution_count": null,
      "metadata": {
        "id": "yMcdEi7LlpIF"
      },
      "outputs": [],
      "source": [
        "###### 10번 문제 답안 작성 셀######\n",
        "\n",
        "\n"
      ]
    }
  ],
  "metadata": {
    "colab": {
      "name": "python-final.ipynb",
      "provenance": []
    },
    "kernelspec": {
      "display_name": "Python 3.10.5 64-bit",
      "language": "python",
      "name": "python3"
    },
    "language_info": {
      "name": "python",
      "version": "3.10.5"
    },
    "vscode": {
      "interpreter": {
        "hash": "818e61c07054e900cca3fb47f365ca8e4faed981f62945c80b398dee828b08c1"
      }
    }
  },
  "nbformat": 4,
  "nbformat_minor": 0
}
